{
 "cells": [
  {
   "cell_type": "markdown",
   "metadata": {},
   "source": [
    "# Brep Booleans in VSCode"
   ]
  },
  {
   "cell_type": "markdown",
   "metadata": {},
   "source": [
    "## Imports"
   ]
  },
  {
   "cell_type": "code",
   "execution_count": 1,
   "metadata": {},
   "outputs": [],
   "source": [
    "import compas\n",
    "from compas.geometry import Frame, Box, Cylinder\n",
    "from compas.colors import Color\n",
    "from compas_notebook.viewer import Viewer"
   ]
  },
  {
   "cell_type": "markdown",
   "metadata": {},
   "source": [
    "## The Boolean Operations"
   ]
  },
  {
   "cell_type": "code",
   "execution_count": 2,
   "metadata": {},
   "outputs": [],
   "source": [
    "R = 1.4\n",
    "YZ = Frame.worldYZ()\n",
    "ZX = Frame.worldZX()\n",
    "XY = Frame.worldXY()\n",
    "\n",
    "box = Box(2 * R).to_brep()\n",
    "\n",
    "cx = Cylinder(0.7 * R, 4 * R, frame=YZ).to_brep()\n",
    "cy = Cylinder(0.7 * R, 4 * R, frame=ZX).to_brep()\n",
    "cz = Cylinder(0.7 * R, 4 * R, frame=XY).to_brep()\n",
    "\n",
    "result = box - (cx + cy + cz)\n"
   ]
  },
  {
   "cell_type": "markdown",
   "metadata": {},
   "source": [
    "## Visualization"
   ]
  },
  {
   "cell_type": "code",
   "execution_count": 3,
   "metadata": {},
   "outputs": [
    {
     "name": "stdout",
     "output_type": "stream",
     "text": [
      "PyThreeJS SceneObjects registered.\n"
     ]
    },
    {
     "data": {
      "application/vnd.jupyter.widget-view+json": {
       "model_id": "0f11c01b15a542ffa6f8fe4d7bf43757",
       "version_major": 2,
       "version_minor": 0
      },
      "text/plain": [
       "VBox(children=(HBox(children=(Button(icon='folder-open', layout=Layout(height='32px', width='48px'), style=But…"
      ]
     },
     "metadata": {},
     "output_type": "display_data"
    }
   ],
   "source": [
    "viewer = Viewer(show_axes=False)\n",
    "viewer.scene.clear()\n",
    "viewer.scene.add(result, color=Color.grey().lightened(50))\n",
    "viewer.show()"
   ]
  }
 ],
 "metadata": {
  "kernelspec": {
   "display_name": "compas-dev",
   "language": "python",
   "name": "python3"
  },
  "language_info": {
   "codemirror_mode": {
    "name": "ipython",
    "version": 3
   },
   "file_extension": ".py",
   "mimetype": "text/x-python",
   "name": "python",
   "nbconvert_exporter": "python",
   "pygments_lexer": "ipython3",
   "version": "3.9.10"
  }
 },
 "nbformat": 4,
 "nbformat_minor": 2
}
